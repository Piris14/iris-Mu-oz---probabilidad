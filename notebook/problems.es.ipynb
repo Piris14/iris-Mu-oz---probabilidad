{
 "cells": [
  {
   "cell_type": "markdown",
   "id": "a41f3622",
   "metadata": {},
   "source": [
    "# Ejercicios de probabilidad"
   ]
  },
  {
   "cell_type": "markdown",
   "id": "a6bdbd89",
   "metadata": {},
   "source": [
    "## Ejercicio 1 \n",
    "\n",
    "Dos dados se lanzan una vez y se observa el total obtenido. Usa una simulación para encontrar la probabilidad estimada de que la puntuación sea mayor a 7 o un número par. Una simulación es una repetición del mismo experimento multiples veces para observar su comportamiento:\n",
    "\n",
    "- Ejecuta el experimento 1000 veces (lanza 2 dados 1000 veces, y suma el número de ambos dados).\n",
    "- Lleva ua cuenta de los números y las veces que la suma fue mayor a 7 o un número par.\n",
    "- Divide el número del paso 2 entre el número de iteraciones(1000)."
   ]
  },
  {
   "cell_type": "code",
   "execution_count": 30,
   "id": "8939d892",
   "metadata": {},
   "outputs": [
    {
     "name": "stdout",
     "output_type": "stream",
     "text": [
      " El procentaje de tiradas que tengan un número mayor que siete o sea par es de: 65.90\n"
     ]
    }
   ],
   "source": [
    "# TODO\n",
    "import numpy as np\n",
    "\n",
    "tiradas = [np.random.randint(1, 7) + np.random.randint(1, 7) for i in range(1000)]\n",
    "\n",
    "mayor_que_siete_o_par = sum(1 for i in tiradas if i>7 or i % 2 == 0)\n",
    "\n",
    "\n",
    "\n",
    "\n",
    "porcentaje_mayor_siete_o_par = (mayor_que_siete_o_par / len(tiradas)) * 100\n",
    "print(f' El procentaje de tiradas que tengan un número mayor que siete o sea par es de: {porcentaje_mayor_siete_o_par:.2f}') \n",
    "\n",
    "\n"
   ]
  },
  {
   "cell_type": "markdown",
   "id": "55732bca",
   "metadata": {},
   "source": [
    "## Ejercicio 2\n",
    "\n",
    "Una caja contiene 10 bolas blancas, 20 bolas rojas y 30 bolas verdes. Si tomamos 5 bolas de la caja reemplazándolas (tomando una bola, anotando el color y luego regresandola a la caja). Queremos saber la probabilidad de:\n",
    "\n",
    "1. Tomar 3 blancas y 2 rojas.\n",
    "2. Toas todas del mismo color.\n",
    "\n",
    "Ejecuta el experimento 1000 veces y calcula las probabilidades que mencionadas."
   ]
  },
  {
   "cell_type": "code",
   "execution_count": null,
   "id": "23244d20",
   "metadata": {},
   "outputs": [
    {
     "name": "stdout",
     "output_type": "stream",
     "text": [
      "{0: 'White', 1: 'White', 2: 'White', 3: 'White', 4: 'White', 5: 'White', 6: 'White', 7: 'White', 8: 'White', 9: 'White', 10: 'Red', 11: 'Red', 12: 'Red', 13: 'Red', 14: 'Red', 15: 'Red', 16: 'Red', 17: 'Red', 18: 'Red', 19: 'Red', 20: 'Red', 21: 'Red', 22: 'Red', 23: 'Red', 24: 'Red', 25: 'Red', 26: 'Red', 27: 'Red', 28: 'Red', 29: 'Red', 30: 'Green', 31: 'Green', 32: 'Green', 33: 'Green', 34: 'Green', 35: 'Green', 36: 'Green', 37: 'Green', 38: 'Green', 39: 'Green', 40: 'Green', 41: 'Green', 42: 'Green', 43: 'Green', 44: 'Green', 45: 'Green', 46: 'Green', 47: 'Green', 48: 'Green', 49: 'Green', 50: 'Green', 51: 'Green', 52: 'Green', 53: 'Green', 54: 'Green', 55: 'Green', 56: 'Green', 57: 'Green', 58: 'Green', 59: 'Green'}\n",
      "La probabilidad de sacar 3 bolas blancas y 2 rojas es de: 0.8%\n",
      "La probabilidad de sacar todas del mismo color es de: 3.6%\n"
     ]
    }
   ],
   "source": [
    "ball_box = {}\n",
    "\n",
    "# Crea la cajas con las bolas\n",
    "for i in range(60):\n",
    "    if i < 10:\n",
    "        ball_box[i] = \"White\"\n",
    "    elif (i > 9) and (i < 30):\n",
    "        ball_box[i] = \"Red\"\n",
    "    else:\n",
    "        ball_box[i] = \"Green\"\n",
    "\n",
    "print(ball_box)\n",
    "            \n",
    "# TODO\n",
    "ball_box = ['White'] * 10 + ['Red'] * 20 + ['Green'] * 30\n",
    "\n",
    "def experimento(simulaciones=1000):    #Realizo el experimento\n",
    "    Tres_blancas_2_rojas = 0\n",
    "    todas_iguales = 0\n",
    "\n",
    "    for ball in range(simulaciones):\n",
    "      \n",
    "        sacadas = [np.random.choice(ball_box) for ball in range(5)]              # reemplazo las 5 bolas\n",
    "        \n",
    "        sacadas_array = np.array(sacadas)\n",
    "        \n",
    "        bolas_blancas = sum(sacadas_array == \"White\")         #cuento las bolas del color que se ha extraido\n",
    "        bolas_rojas = sum(sacadas_array == \"Red\")\n",
    "        bolas_verdes = sum(sacadas_array == \"Green\")\n",
    "\n",
    "        if bolas_blancas == 3 and bolas_rojas == 2:\n",
    "            Tres_blancas_2_rojas += 1\n",
    "        \n",
    "        if bolas_blancas == 5 or bolas_rojas == 5 or bolas_verdes == 5:\n",
    "            todas_iguales += 1\n",
    "    \n",
    "    prob_3_blancas_2_rojas = Tres_blancas_2_rojas / simulaciones\n",
    "    prob_todas_iguales = todas_iguales / simulaciones\n",
    "\n",
    "    return prob_3_blancas_2_rojas, prob_todas_iguales\n",
    "\n",
    "probabilities = simulate_experiment(1000)\n",
    "\n",
    "# Imprimir los resultados\n",
    "print(f\"La probabilidad de sacar 3 bolas blancas y 2 rojas es de: {np.round(probabilities[0] * 100, 2)}%\")\n",
    "print(f\"La probabilidad de sacar todas del mismo color es de: {np.round(probabilities[1] * 100, 2)}%\")"
   ]
  }
 ],
 "metadata": {
  "kernelspec": {
   "display_name": "Python 3",
   "language": "python",
   "name": "python3"
  },
  "language_info": {
   "codemirror_mode": {
    "name": "ipython",
    "version": 3
   },
   "file_extension": ".py",
   "mimetype": "text/x-python",
   "name": "python",
   "nbconvert_exporter": "python",
   "pygments_lexer": "ipython3",
   "version": "3.11.4"
  }
 },
 "nbformat": 4,
 "nbformat_minor": 5
}
